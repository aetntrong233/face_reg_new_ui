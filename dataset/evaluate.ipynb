{
 "cells": [
  {
   "cell_type": "markdown",
   "metadata": {},
   "source": [
    "prepare dataset"
   ]
  },
  {
   "cell_type": "code",
   "execution_count": 2,
   "metadata": {},
   "outputs": [],
   "source": [
    "import os\n",
    "import cv2\n",
    "from utils.faceDetection import face_detector\n",
    "\n",
    "alfw_dir = 'dataset/lfw'\n",
    "\n",
    "for fld_name in os.listdir(alfw_dir):\n",
    "    fld_path = os.path.join(alfw_dir, fld_name)\n",
    "    for img_name in os.listdir(fld_path):\n",
    "        img_path = os.path.join(fld_path, img_name)\n",
    "        img = cv2.imread(img_path)\n",
    "        os.remove(img_path)\n",
    "        face_locs = face_detector(img)\n",
    "        if len(face_locs[0]) == 1:\n",
    "            (x,y,w,h) = face_locs[0][0]\n",
    "            face_croped = img.copy()[y:y+h,x:x+w]\n",
    "            cv2.imwrite(img_path, face_croped)"
   ]
  },
  {
   "cell_type": "markdown",
   "metadata": {},
   "source": [
    "evaluate"
   ]
  },
  {
   "cell_type": "code",
   "execution_count": null,
   "metadata": {},
   "outputs": [],
   "source": [
    "from evaluate_on_lfw import lfw\n",
    "from utils.featureExtraction import feature_extraction\n",
    "import cv2\n",
    "import numpy as np\n",
    "\n",
    "\n",
    "pair_filename_path = 'dataset/lfw/pairs.txt'\n",
    "lfw_dir = 'dataset/lfw/lfw'\n",
    "thresholds = [0.7, 0.75, 0.8, 0.85, 0.9, 0.95]\n",
    "\n",
    "pairs = lfw.read_pairs(pair_filename_path)\n",
    "paths, actual_issame = lfw.get_paths(lfw_dir, pairs)\n",
    "\n",
    "print('Embedding on LFW images')\n",
    "embeddings = []\n",
    "for path in paths:\n",
    "    img0 = cv2.imread(path[0])\n",
    "    embedding0 = feature_extraction(img0)\n",
    "    img1 = cv2.imread(path[1])\n",
    "    embedding1 = feature_extraction(img1)\n",
    "    embeddings += (embedding0, embedding1)\n",
    "\n",
    "np.save('dataset/lfw/embedding.npy', embeddings)\n",
    "\n",
    "for threshold in thresholds:\n",
    "    print('---------------------------------------')\n",
    "\n",
    "    accuracy, precision, recall = lfw.evaluate(embeddings, actual_issame, threshold)\n",
    "\n",
    "    f1_score = 0 if (precision+recall==0) else 2*precision*recall/(precision+recall)\n",
    "        \n",
    "    print('Threshold: %3.5f' % threshold)\n",
    "\n",
    "    print('Accuracy: %3.5f' % accuracy)\n",
    "    print('Precision: %3.5f' % precision)\n",
    "    print('Recall: %3.5f' % recall)\n",
    "    print('F1 score: %3.5f' % f1_score)\n",
    "    "
   ]
  }
 ],
 "metadata": {
  "kernelspec": {
   "display_name": "Python 3.10.5 ('env': venv)",
   "language": "python",
   "name": "python3"
  },
  "language_info": {
   "codemirror_mode": {
    "name": "ipython",
    "version": 3
   },
   "file_extension": ".py",
   "mimetype": "text/x-python",
   "name": "python",
   "nbconvert_exporter": "python",
   "pygments_lexer": "ipython3",
   "version": "3.10.5"
  },
  "orig_nbformat": 4,
  "vscode": {
   "interpreter": {
    "hash": "bccb4237e21933c64dbbc17ff855d873c1116346650d9b4506940eaf5bb04bb5"
   }
  }
 },
 "nbformat": 4,
 "nbformat_minor": 2
}
